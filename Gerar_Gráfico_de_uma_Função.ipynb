{
  "nbformat": 4,
  "nbformat_minor": 0,
  "metadata": {
    "colab": {
      "provenance": [],
      "authorship_tag": "ABX9TyMAfE7H9nlHbIIZgo3OcQ8r",
      "include_colab_link": true
    },
    "kernelspec": {
      "name": "python3",
      "display_name": "Python 3"
    },
    "language_info": {
      "name": "python"
    }
  },
  "cells": [
    {
      "cell_type": "markdown",
      "metadata": {
        "id": "view-in-github",
        "colab_type": "text"
      },
      "source": [
        "<a href=\"https://colab.research.google.com/github/Lorde-jacare/grafico-de-uma-equa-o/blob/main/Gerar_Gr%C3%A1fico_de_uma_Fun%C3%A7%C3%A3o.ipynb\" target=\"_parent\"><img src=\"https://colab.research.google.com/assets/colab-badge.svg\" alt=\"Open In Colab\"/></a>"
      ]
    },
    {
      "cell_type": "code",
      "execution_count": null,
      "metadata": {
        "id": "IvlOuIH2RBQ4"
      },
      "outputs": [],
      "source": [
        "#gráfico de uma função\n",
        "import matplotlib.pyplot as plt\n",
        "import numpy as np\n",
        "x = np.linspace(100, -100, 100) #valor de ínicio do x, fim do x e número de pontos a ser gerado\n",
        "y = 2*x**2 -5*x   #inserir a função a qual o gráfico deve representar(deve estar em função de X)\n",
        "fig, ax = plt.subplots()\n",
        "ax .plot(x, y)\n",
        "fig.show()"
      ]
    },
    {
      "cell_type": "markdown",
      "source": [],
      "metadata": {
        "id": "0zzsCBasRGeG"
      }
    }
  ]
}